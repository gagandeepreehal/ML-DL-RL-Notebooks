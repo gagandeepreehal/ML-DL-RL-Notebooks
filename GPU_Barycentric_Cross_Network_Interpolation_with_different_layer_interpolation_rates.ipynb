{
  "nbformat": 4,
  "nbformat_minor": 0,
  "metadata": {
    "colab": {
      "name": "GPU Barycentric Cross-Network Interpolation with different layer interpolation rates",
      "provenance": [],
      "collapsed_sections": [
        "vwoaEDAZmx05",
        "z-nbM6a9N6_s"
      ],
      "include_colab_link": true
    },
    "kernelspec": {
      "name": "python3",
      "display_name": "Python 3"
    },
    "accelerator": "GPU"
  },
  "cells": [
    {
      "cell_type": "markdown",
      "metadata": {
        "id": "view-in-github",
        "colab_type": "text"
      },
      "source": [
        "<a href=\"https://colab.research.google.com/github/gagandeepreehal/ML-DL-RL-Notebooks/blob/main/GPU_Barycentric_Cross_Network_Interpolation_with_different_layer_interpolation_rates.ipynb\" target=\"_parent\"><img src=\"https://colab.research.google.com/assets/colab-badge.svg\" alt=\"Open In Colab\"/></a>"
      ]
    },
    {
      "cell_type": "markdown",
      "metadata": {
        "id": "PtOVza7H9z3Y"
      },
      "source": [
        "# Barycentric Cross-Network Interpolation with different layer interpolation rates\n",
        "\n",
        "### Credits\n",
        "Thanks to [@shawwn](https://twitter.com/theshawwn) for helping me optimize the cross-network interpolation code.\n",
        "\n",
        "The code for generating the triangle visualization is from [Brandon Mechtley](https://github.com/bmechtley/barycentric).\n",
        "\n",
        "### Shameless Plug\n",
        "If you enjoyed this and want to see more projects like it in the future, consider supporting me on Ko-fi or Patreon.\n",
        "\n",
        "-arfa\n",
        "\n",
        "\n",
        "<div>\n",
        "<a href=\"https://www.twitter.com/arfafax\">\n",
        "<img src=\"https://thisfursonadoesnotexist.com/arfa_sig.png\" width=\"350\"/>\n",
        "</a>\n",
        "</div>\n",
        "<div>\n",
        "<a href=\"https://ko-fi.com/arfafax\">\n",
        "<img src=\"https://cdn.ko-fi.com/cdn/kofi3.png?v=2\" width=\"220\"/>\n",
        "</a>\n",
        "<a href=\"https://www.patreon.com/arfafax\">\n",
        "<img src=\"https://c5.patreon.com/external/logo/become_a_patron_button.png\" width=\"235\"/>\n",
        "</a>\n",
        "</div>\n"
      ]
    },
    {
      "cell_type": "markdown",
      "metadata": {
        "id": "nMVVydZPL051"
      },
      "source": [
        "Select the models to interpolate between. They have all been transfer learned from the same source (ThisFursonaDoesNotExist).\n"
      ]
    },
    {
      "cell_type": "code",
      "metadata": {
        "id": "pXcjXwwhzJOW",
        "outputId": "8bd3a7ba-2f3d-450d-b334-0c2fe129a8cd",
        "colab": {
          "base_uri": "https://localhost:8080/",
          "height": 239
        }
      },
      "source": [
        "import gdown\n",
        "network_a_name = \"furry\"\n",
        "network_b_name = \"pony\"\n",
        "network_c_name = \"anime\"\n",
        "# Furry\n",
        "gdown.download('https://drive.google.com/uc?id=1t7E8NEqK_gVJwxrWEihR1IcPfekaBc1d', 'network-{}.pkl'.format(network_a_name), quiet=False)\n",
        "# Pony\n",
        "gdown.download('https://drive.google.com/uc?id=1HmDTPoUlhVcUQ6-D0gkGMiBQZ3nNUBg9', 'network-{}.pkl'.format(network_b_name), quiet=False)\n",
        "# Anime\n",
        "gdown.download('https://drive.google.com/uc?id=1rfO_Iyg7cfjrs2fUsjjAsGb2_wDLdUYC', 'network-{}.pkl'.format(network_c_name), quiet=False)\n",
        "# FFHQ\n",
        "#gdown.download('https://drive.google.com/uc?id=1XeY94kGlULuxoHUSHIDWH8BQ4_L1UBKJ', 'network-{}.pkl'.format(network_b_name), quiet=False)"
      ],
      "execution_count": null,
      "outputs": [
        {
          "output_type": "stream",
          "text": [
            "Downloading...\n",
            "From: https://drive.google.com/uc?id=1t7E8NEqK_gVJwxrWEihR1IcPfekaBc1d\n",
            "To: /content/network-furry.pkl\n",
            "364MB [00:02, 146MB/s]\n",
            "Downloading...\n",
            "From: https://drive.google.com/uc?id=1HmDTPoUlhVcUQ6-D0gkGMiBQZ3nNUBg9\n",
            "To: /content/network-pony.pkl\n",
            "364MB [00:02, 146MB/s]\n",
            "Downloading...\n",
            "From: https://drive.google.com/uc?id=1rfO_Iyg7cfjrs2fUsjjAsGb2_wDLdUYC\n",
            "To: /content/network-anime.pkl\n",
            "364MB [00:03, 102MB/s] \n"
          ],
          "name": "stderr"
        },
        {
          "output_type": "execute_result",
          "data": {
            "application/vnd.google.colaboratory.intrinsic+json": {
              "type": "string"
            },
            "text/plain": [
              "'network-anime.pkl'"
            ]
          },
          "metadata": {
            "tags": []
          },
          "execution_count": 3
        }
      ]
    },
    {
      "cell_type": "markdown",
      "metadata": {
        "id": "vwoaEDAZmx05"
      },
      "source": [
        "## Boring tensorflow stuff"
      ]
    },
    {
      "cell_type": "code",
      "metadata": {
        "id": "XPa2GXzyiSBR",
        "outputId": "37aa8607-fce2-4377-ea2b-acb0cc9c2af2",
        "colab": {
          "base_uri": "https://localhost:8080/",
          "height": 357
        }
      },
      "source": [
        "!nvidia-smi"
      ],
      "execution_count": null,
      "outputs": [
        {
          "output_type": "stream",
          "text": [
            "Tue Aug 25 21:18:41 2020       \n",
            "+-----------------------------------------------------------------------------+\n",
            "| NVIDIA-SMI 450.57       Driver Version: 418.67       CUDA Version: 10.1     |\n",
            "|-------------------------------+----------------------+----------------------+\n",
            "| GPU  Name        Persistence-M| Bus-Id        Disp.A | Volatile Uncorr. ECC |\n",
            "| Fan  Temp  Perf  Pwr:Usage/Cap|         Memory-Usage | GPU-Util  Compute M. |\n",
            "|                               |                      |               MIG M. |\n",
            "|===============================+======================+======================|\n",
            "|   0  Tesla T4            Off  | 00000000:00:04.0 Off |                    0 |\n",
            "| N/A   59C    P8    11W /  70W |      0MiB / 15079MiB |      0%      Default |\n",
            "|                               |                      |                 ERR! |\n",
            "+-------------------------------+----------------------+----------------------+\n",
            "                                                                               \n",
            "+-----------------------------------------------------------------------------+\n",
            "| Processes:                                                                  |\n",
            "|  GPU   GI   CI        PID   Type   Process name                  GPU Memory |\n",
            "|        ID   ID                                                   Usage      |\n",
            "|=============================================================================|\n",
            "|  No running processes found                                                 |\n",
            "+-----------------------------------------------------------------------------+\n"
          ],
          "name": "stdout"
        }
      ]
    },
    {
      "cell_type": "code",
      "metadata": {
        "id": "Ixs37iA-Mxf2",
        "outputId": "672f2115-5a8b-47da-c6f1-4ca06c0c37f7",
        "colab": {
          "base_uri": "https://localhost:8080/",
          "height": 102
        }
      },
      "source": [
        "!git clone https://github.com/shawwn/stylegan2 -b estimator /content/stylegan2"
      ],
      "execution_count": null,
      "outputs": [
        {
          "output_type": "stream",
          "text": [
            "Cloning into '/content/stylegan2'...\n",
            "remote: Enumerating objects: 1463, done.\u001b[K\n",
            "remote: Total 1463 (delta 0), reused 0 (delta 0), pack-reused 1463\u001b[K\n",
            "Receiving objects: 100% (1463/1463), 933.62 KiB | 2.96 MiB/s, done.\n",
            "Resolving deltas: 100% (1044/1044), done.\n"
          ],
          "name": "stdout"
        }
      ]
    },
    {
      "cell_type": "code",
      "metadata": {
        "id": "w_diRM7Fn1Pa",
        "outputId": "f745c49f-737f-437e-ba24-0b83a63ca6f9",
        "colab": {
          "base_uri": "https://localhost:8080/",
          "height": 51
        }
      },
      "source": [
        "%tensorflow_version 1.x\n",
        "%cd /content/stylegan2"
      ],
      "execution_count": null,
      "outputs": [
        {
          "output_type": "stream",
          "text": [
            "TensorFlow 1.x selected.\n",
            "/content/stylegan2\n"
          ],
          "name": "stdout"
        }
      ]
    },
    {
      "cell_type": "code",
      "metadata": {
        "id": "Pt4kvzEM39oI",
        "outputId": "46487735-ffbe-47f6-d23e-5e31f9889d3e",
        "colab": {
          "base_uri": "https://localhost:8080/",
          "height": 187
        }
      },
      "source": [
        "import os\n",
        "import pickle\n",
        "import numpy as np\n",
        "import PIL.Image\n",
        "import dnnlib\n",
        "import dnnlib.tflib as tflib\n",
        "import scipy\n",
        "import tensorflow as tf\n",
        "import re"
      ],
      "execution_count": null,
      "outputs": [
        {
          "output_type": "stream",
          "text": [
            "WARNING:tensorflow:From /content/stylegan2/tflex.py:314: The name tf.Session is deprecated. Please use tf.compat.v1.Session instead.\n",
            "\n",
            "WARNING:tensorflow:From /content/stylegan2/tflex.py:576: The name tf.train.SaverDef is deprecated. Please use tf.compat.v1.train.SaverDef instead.\n",
            "\n",
            "attach_debugger <function attach_debugger at 0x7f42ffcf47b8>\n",
            "print_status <function print_status at 0x7f42ffcf4ae8>\n",
            "freeze_forever <function freeze_forever at 0x7f42ffcf4ea0>\n",
            "quit <function quit at 0x7f42ffcf71e0>\n",
            "save_and_quit <function save_and_quit at 0x7f42ffcf7510>\n",
            "throw_exception <function throw_exception at 0x7f42ffcf77b8>\n"
          ],
          "name": "stdout"
        }
      ]
    },
    {
      "cell_type": "code",
      "metadata": {
        "id": "Mg9DrxVNJ8am",
        "outputId": "dada47a6-a0e0-4d0f-e838-90eaefde6878",
        "colab": {
          "base_uri": "https://localhost:8080/",
          "height": 51
        }
      },
      "source": [
        "tflib.init_tf()\n",
        "_G1, _D1, Gs1 = pickle.load(open(\"/content/network-{}.pkl\".format(network_a_name), \"rb\"))\n",
        "_G2, _D2, Gs2 = pickle.load(open(\"/content/network-{}.pkl\".format(network_b_name), \"rb\"))\n",
        "_G3, _D3, Gs3 = pickle.load(open(\"/content/network-{}.pkl\".format(network_c_name), \"rb\"))\n",
        "_G, _D, Gs = pickle.load(open(\"/content/network-{}.pkl\".format(network_a_name), \"rb\"))\n"
      ],
      "execution_count": null,
      "outputs": [
        {
          "output_type": "stream",
          "text": [
            "Setting up TensorFlow plugin \"fused_bias_act.cu\": Preprocessing... Compiling... Loading... Done.\n",
            "Setting up TensorFlow plugin \"upfirdn_2d.cu\": Preprocessing... Compiling... Loading... Done.\n"
          ],
          "name": "stdout"
        }
      ]
    },
    {
      "cell_type": "code",
      "metadata": {
        "id": "4MMGMmTdA1Hm"
      },
      "source": [
        "from dnnlib.tflib import tfutil\n",
        "import tflex\n",
        "names = []\n",
        "\n",
        "for name in Gs1.trainables.keys():\n",
        "    if name not in Gs1.trainables:\n",
        "        print(\"Not restoring (not present):     {}\".format(name))\n",
        "    elif Gs2.trainables[name].shape != Gs1.trainables[name].shape:\n",
        "        print(\"Not restoring (different shape): {}\".format(name))\n",
        "\n",
        "    if name in Gs1.trainables and Gs2.trainables[name].shape == Gs1.trainables[name].shape:\n",
        "        names.append(name)\n"
      ],
      "execution_count": null,
      "outputs": []
    },
    {
      "cell_type": "code",
      "metadata": {
        "id": "6I7lotL1S5pT",
        "outputId": "660d20e4-86f2-415b-fe72-c1690701fefe",
        "colab": {
          "base_uri": "https://localhost:8080/",
          "height": 54
        }
      },
      "source": [
        "print(names)"
      ],
      "execution_count": null,
      "outputs": [
        {
          "output_type": "stream",
          "text": [
            "['G_synthesis/4x4/Const/const', 'G_synthesis/4x4/Conv/weight', 'G_synthesis/4x4/Conv/mod_weight', 'G_synthesis/4x4/Conv/mod_bias', 'G_synthesis/4x4/Conv/noise_strength', 'G_synthesis/4x4/Conv/bias', 'G_synthesis/4x4/ToRGB/weight', 'G_synthesis/4x4/ToRGB/mod_weight', 'G_synthesis/4x4/ToRGB/mod_bias', 'G_synthesis/4x4/ToRGB/bias', 'G_synthesis/8x8/Conv0_up/weight', 'G_synthesis/8x8/Conv0_up/mod_weight', 'G_synthesis/8x8/Conv0_up/mod_bias', 'G_synthesis/8x8/Conv0_up/noise_strength', 'G_synthesis/8x8/Conv0_up/bias', 'G_synthesis/8x8/Conv1/weight', 'G_synthesis/8x8/Conv1/mod_weight', 'G_synthesis/8x8/Conv1/mod_bias', 'G_synthesis/8x8/Conv1/noise_strength', 'G_synthesis/8x8/Conv1/bias', 'G_synthesis/8x8/ToRGB/weight', 'G_synthesis/8x8/ToRGB/mod_weight', 'G_synthesis/8x8/ToRGB/mod_bias', 'G_synthesis/8x8/ToRGB/bias', 'G_synthesis/16x16/Conv0_up/weight', 'G_synthesis/16x16/Conv0_up/mod_weight', 'G_synthesis/16x16/Conv0_up/mod_bias', 'G_synthesis/16x16/Conv0_up/noise_strength', 'G_synthesis/16x16/Conv0_up/bias', 'G_synthesis/16x16/Conv1/weight', 'G_synthesis/16x16/Conv1/mod_weight', 'G_synthesis/16x16/Conv1/mod_bias', 'G_synthesis/16x16/Conv1/noise_strength', 'G_synthesis/16x16/Conv1/bias', 'G_synthesis/16x16/ToRGB/weight', 'G_synthesis/16x16/ToRGB/mod_weight', 'G_synthesis/16x16/ToRGB/mod_bias', 'G_synthesis/16x16/ToRGB/bias', 'G_synthesis/32x32/Conv0_up/weight', 'G_synthesis/32x32/Conv0_up/mod_weight', 'G_synthesis/32x32/Conv0_up/mod_bias', 'G_synthesis/32x32/Conv0_up/noise_strength', 'G_synthesis/32x32/Conv0_up/bias', 'G_synthesis/32x32/Conv1/weight', 'G_synthesis/32x32/Conv1/mod_weight', 'G_synthesis/32x32/Conv1/mod_bias', 'G_synthesis/32x32/Conv1/noise_strength', 'G_synthesis/32x32/Conv1/bias', 'G_synthesis/32x32/ToRGB/weight', 'G_synthesis/32x32/ToRGB/mod_weight', 'G_synthesis/32x32/ToRGB/mod_bias', 'G_synthesis/32x32/ToRGB/bias', 'G_synthesis/64x64/Conv0_up/weight', 'G_synthesis/64x64/Conv0_up/mod_weight', 'G_synthesis/64x64/Conv0_up/mod_bias', 'G_synthesis/64x64/Conv0_up/noise_strength', 'G_synthesis/64x64/Conv0_up/bias', 'G_synthesis/64x64/Conv1/weight', 'G_synthesis/64x64/Conv1/mod_weight', 'G_synthesis/64x64/Conv1/mod_bias', 'G_synthesis/64x64/Conv1/noise_strength', 'G_synthesis/64x64/Conv1/bias', 'G_synthesis/64x64/ToRGB/weight', 'G_synthesis/64x64/ToRGB/mod_weight', 'G_synthesis/64x64/ToRGB/mod_bias', 'G_synthesis/64x64/ToRGB/bias', 'G_synthesis/128x128/Conv0_up/weight', 'G_synthesis/128x128/Conv0_up/mod_weight', 'G_synthesis/128x128/Conv0_up/mod_bias', 'G_synthesis/128x128/Conv0_up/noise_strength', 'G_synthesis/128x128/Conv0_up/bias', 'G_synthesis/128x128/Conv1/weight', 'G_synthesis/128x128/Conv1/mod_weight', 'G_synthesis/128x128/Conv1/mod_bias', 'G_synthesis/128x128/Conv1/noise_strength', 'G_synthesis/128x128/Conv1/bias', 'G_synthesis/128x128/ToRGB/weight', 'G_synthesis/128x128/ToRGB/mod_weight', 'G_synthesis/128x128/ToRGB/mod_bias', 'G_synthesis/128x128/ToRGB/bias', 'G_synthesis/256x256/Conv0_up/weight', 'G_synthesis/256x256/Conv0_up/mod_weight', 'G_synthesis/256x256/Conv0_up/mod_bias', 'G_synthesis/256x256/Conv0_up/noise_strength', 'G_synthesis/256x256/Conv0_up/bias', 'G_synthesis/256x256/Conv1/weight', 'G_synthesis/256x256/Conv1/mod_weight', 'G_synthesis/256x256/Conv1/mod_bias', 'G_synthesis/256x256/Conv1/noise_strength', 'G_synthesis/256x256/Conv1/bias', 'G_synthesis/256x256/ToRGB/weight', 'G_synthesis/256x256/ToRGB/mod_weight', 'G_synthesis/256x256/ToRGB/mod_bias', 'G_synthesis/256x256/ToRGB/bias', 'G_synthesis/512x512/Conv0_up/weight', 'G_synthesis/512x512/Conv0_up/mod_weight', 'G_synthesis/512x512/Conv0_up/mod_bias', 'G_synthesis/512x512/Conv0_up/noise_strength', 'G_synthesis/512x512/Conv0_up/bias', 'G_synthesis/512x512/Conv1/weight', 'G_synthesis/512x512/Conv1/mod_weight', 'G_synthesis/512x512/Conv1/mod_bias', 'G_synthesis/512x512/Conv1/noise_strength', 'G_synthesis/512x512/Conv1/bias', 'G_synthesis/512x512/ToRGB/weight', 'G_synthesis/512x512/ToRGB/mod_weight', 'G_synthesis/512x512/ToRGB/mod_bias', 'G_synthesis/512x512/ToRGB/bias', 'G_mapping/Dense0/weight', 'G_mapping/Dense0/bias', 'G_mapping/Dense1/weight', 'G_mapping/Dense1/bias', 'G_mapping/Dense2/weight', 'G_mapping/Dense2/bias', 'G_mapping/Dense3/weight', 'G_mapping/Dense3/bias', 'G_mapping/Dense4/weight', 'G_mapping/Dense4/bias', 'G_mapping/Dense5/weight', 'G_mapping/Dense5/bias', 'G_mapping/Dense6/weight', 'G_mapping/Dense6/bias', 'G_mapping/Dense7/weight', 'G_mapping/Dense7/bias']\n"
          ],
          "name": "stdout"
        }
      ]
    },
    {
      "cell_type": "code",
      "metadata": {
        "id": "zQQ_HBFDYgng",
        "outputId": "92237449-31a2-4843-b193-9fb2d2c0aba5",
        "colab": {
          "base_uri": "https://localhost:8080/",
          "height": 54
        }
      },
      "source": [
        "# Select the variables to interpolate for each point\n",
        "matches = [\n",
        "           '.*(4x4|8x8|16x16)',         #p0\n",
        "           '.*(32x32|64x64|128x128)',   #p1\n",
        "           '.*(256x256|512x512)'        #p2\n",
        "           ]\n",
        "# matches = ['.*(4x4|8x8|16x16|32x32|64x64)',\n",
        "#            '.*(128x128|256x256|512x512)',\n",
        "#            '.*Dense'\n",
        "#]\n",
        "\n",
        "filtered_names = []\n",
        "bs = []\n",
        "ops = []\n",
        "for match in matches:\n",
        "    match_names = [n for n in names if re.match(match, n)]\n",
        "    filtered_names.append(match_names)\n",
        "    b_cur = [tf.Variable(0.0), tf.Variable(0.5), tf.Variable(0.5)]\n",
        "    ops_cur = []\n",
        "    for name in match_names:\n",
        "        ops_cur.append(tf.assign(Gs.vars[name], b_cur[0]*Gs1.vars[name] + b_cur[1]*Gs2.vars[name] + b_cur[2]*Gs3.vars[name]))\n",
        "    bs.append(b_cur)\n",
        "    ops.append(ops_cur)\n",
        "\n",
        "print(filtered_names)"
      ],
      "execution_count": null,
      "outputs": [
        {
          "output_type": "stream",
          "text": [
            "[['G_synthesis/4x4/Const/const', 'G_synthesis/4x4/Conv/weight', 'G_synthesis/4x4/Conv/mod_weight', 'G_synthesis/4x4/Conv/mod_bias', 'G_synthesis/4x4/Conv/noise_strength', 'G_synthesis/4x4/Conv/bias', 'G_synthesis/4x4/ToRGB/weight', 'G_synthesis/4x4/ToRGB/mod_weight', 'G_synthesis/4x4/ToRGB/mod_bias', 'G_synthesis/4x4/ToRGB/bias', 'G_synthesis/8x8/Conv0_up/weight', 'G_synthesis/8x8/Conv0_up/mod_weight', 'G_synthesis/8x8/Conv0_up/mod_bias', 'G_synthesis/8x8/Conv0_up/noise_strength', 'G_synthesis/8x8/Conv0_up/bias', 'G_synthesis/8x8/Conv1/weight', 'G_synthesis/8x8/Conv1/mod_weight', 'G_synthesis/8x8/Conv1/mod_bias', 'G_synthesis/8x8/Conv1/noise_strength', 'G_synthesis/8x8/Conv1/bias', 'G_synthesis/8x8/ToRGB/weight', 'G_synthesis/8x8/ToRGB/mod_weight', 'G_synthesis/8x8/ToRGB/mod_bias', 'G_synthesis/8x8/ToRGB/bias', 'G_synthesis/16x16/Conv0_up/weight', 'G_synthesis/16x16/Conv0_up/mod_weight', 'G_synthesis/16x16/Conv0_up/mod_bias', 'G_synthesis/16x16/Conv0_up/noise_strength', 'G_synthesis/16x16/Conv0_up/bias', 'G_synthesis/16x16/Conv1/weight', 'G_synthesis/16x16/Conv1/mod_weight', 'G_synthesis/16x16/Conv1/mod_bias', 'G_synthesis/16x16/Conv1/noise_strength', 'G_synthesis/16x16/Conv1/bias', 'G_synthesis/16x16/ToRGB/weight', 'G_synthesis/16x16/ToRGB/mod_weight', 'G_synthesis/16x16/ToRGB/mod_bias', 'G_synthesis/16x16/ToRGB/bias'], ['G_synthesis/32x32/Conv0_up/weight', 'G_synthesis/32x32/Conv0_up/mod_weight', 'G_synthesis/32x32/Conv0_up/mod_bias', 'G_synthesis/32x32/Conv0_up/noise_strength', 'G_synthesis/32x32/Conv0_up/bias', 'G_synthesis/32x32/Conv1/weight', 'G_synthesis/32x32/Conv1/mod_weight', 'G_synthesis/32x32/Conv1/mod_bias', 'G_synthesis/32x32/Conv1/noise_strength', 'G_synthesis/32x32/Conv1/bias', 'G_synthesis/32x32/ToRGB/weight', 'G_synthesis/32x32/ToRGB/mod_weight', 'G_synthesis/32x32/ToRGB/mod_bias', 'G_synthesis/32x32/ToRGB/bias', 'G_synthesis/64x64/Conv0_up/weight', 'G_synthesis/64x64/Conv0_up/mod_weight', 'G_synthesis/64x64/Conv0_up/mod_bias', 'G_synthesis/64x64/Conv0_up/noise_strength', 'G_synthesis/64x64/Conv0_up/bias', 'G_synthesis/64x64/Conv1/weight', 'G_synthesis/64x64/Conv1/mod_weight', 'G_synthesis/64x64/Conv1/mod_bias', 'G_synthesis/64x64/Conv1/noise_strength', 'G_synthesis/64x64/Conv1/bias', 'G_synthesis/64x64/ToRGB/weight', 'G_synthesis/64x64/ToRGB/mod_weight', 'G_synthesis/64x64/ToRGB/mod_bias', 'G_synthesis/64x64/ToRGB/bias', 'G_synthesis/128x128/Conv0_up/weight', 'G_synthesis/128x128/Conv0_up/mod_weight', 'G_synthesis/128x128/Conv0_up/mod_bias', 'G_synthesis/128x128/Conv0_up/noise_strength', 'G_synthesis/128x128/Conv0_up/bias', 'G_synthesis/128x128/Conv1/weight', 'G_synthesis/128x128/Conv1/mod_weight', 'G_synthesis/128x128/Conv1/mod_bias', 'G_synthesis/128x128/Conv1/noise_strength', 'G_synthesis/128x128/Conv1/bias', 'G_synthesis/128x128/ToRGB/weight', 'G_synthesis/128x128/ToRGB/mod_weight', 'G_synthesis/128x128/ToRGB/mod_bias', 'G_synthesis/128x128/ToRGB/bias'], ['G_synthesis/256x256/Conv0_up/weight', 'G_synthesis/256x256/Conv0_up/mod_weight', 'G_synthesis/256x256/Conv0_up/mod_bias', 'G_synthesis/256x256/Conv0_up/noise_strength', 'G_synthesis/256x256/Conv0_up/bias', 'G_synthesis/256x256/Conv1/weight', 'G_synthesis/256x256/Conv1/mod_weight', 'G_synthesis/256x256/Conv1/mod_bias', 'G_synthesis/256x256/Conv1/noise_strength', 'G_synthesis/256x256/Conv1/bias', 'G_synthesis/256x256/ToRGB/weight', 'G_synthesis/256x256/ToRGB/mod_weight', 'G_synthesis/256x256/ToRGB/mod_bias', 'G_synthesis/256x256/ToRGB/bias', 'G_synthesis/512x512/Conv0_up/weight', 'G_synthesis/512x512/Conv0_up/mod_weight', 'G_synthesis/512x512/Conv0_up/mod_bias', 'G_synthesis/512x512/Conv0_up/noise_strength', 'G_synthesis/512x512/Conv0_up/bias', 'G_synthesis/512x512/Conv1/weight', 'G_synthesis/512x512/Conv1/mod_weight', 'G_synthesis/512x512/Conv1/mod_bias', 'G_synthesis/512x512/Conv1/noise_strength', 'G_synthesis/512x512/Conv1/bias', 'G_synthesis/512x512/ToRGB/weight', 'G_synthesis/512x512/ToRGB/mod_weight', 'G_synthesis/512x512/ToRGB/mod_bias', 'G_synthesis/512x512/ToRGB/bias']]\n"
          ],
          "name": "stdout"
        }
      ]
    },
    {
      "cell_type": "code",
      "metadata": {
        "id": "tnMwa5Zwcjxs"
      },
      "source": [
        "sess = tf.get_default_session()"
      ],
      "execution_count": null,
      "outputs": []
    },
    {
      "cell_type": "code",
      "metadata": {
        "id": "zIzjMoMu84Qb"
      },
      "source": [
        "def barycentric_interp(b_v_low, b_v_med, b_v_high):\n",
        "    global bs\n",
        "    global ops\n",
        "\n",
        "    for i in range(len(b_v_low)):\n",
        "        bs[0][i].load(b_v_low[i])\n",
        "        bs[1][i].load(b_v_med[i])\n",
        "        bs[2][i].load(b_v_high[i])\n",
        "\n",
        "    for j in range(len(ops)):\n",
        "        sess.run(ops[j])\n"
      ],
      "execution_count": null,
      "outputs": []
    },
    {
      "cell_type": "markdown",
      "metadata": {
        "id": "mdnjmC0BWla4"
      },
      "source": [
        "This is the path each point takes throughout the video. In this case, it's just permutations of the three corner coordinates, but any list of barycentric coordinates should work."
      ]
    },
    {
      "cell_type": "code",
      "metadata": {
        "id": "yC51hranEPIS"
      },
      "source": [
        "# This is the path each point takes throughout the video\n",
        "A = [0,0,1]\n",
        "B = [0,1,0]\n",
        "C = [1,0,0]\n",
        "points_p0 = [A, A, A, A, A, A, A, A, A, B, B, B, B, B, B, B, B, B, C, C, C, C, C, C, C, C, C]\n",
        "points_p1 = [A, A, A, B, B, B, C, C, C, A, A, A, B, B, B, C, C, C, A, A, A, B, B, B, C, C, C]\n",
        "points_p2 = [A, B, C, A, B, C, A, B, C, A, B, C, A, B, C, A, B, C, A, B, C, A, B, C, A, B, C]\n",
        "\n",
        "# This function interpolates smoothly between the points in a given list, where t is some value that goes from 0 to 1 throughout the video\n",
        "def get_point(t, p_list, duration_sec = 60.0, mp4_fps = 20):\n",
        "    total_frames = duration_sec * mp4_fps #1200\n",
        "    frames_per_step = total_frames/(len(p_list)) #200\n",
        "    current_frame = int(t * total_frames)\n",
        "    \n",
        "    p1 = int(current_frame // frames_per_step) % len(p_list)\n",
        "    p2 = (p1 + 1)%len(p_list)\n",
        "    lam = (current_frame % frames_per_step) / frames_per_step\n",
        "    #print(t, total_frames, frames_per_step, current_frame, p1, p2, lam)\n",
        "    point1 = np.array(p_list[p1])\n",
        "    point2 = np.array(p_list[p2])\n",
        "    return (1-lam)*point1 + (lam)*point2 "
      ],
      "execution_count": null,
      "outputs": []
    },
    {
      "cell_type": "code",
      "metadata": {
        "id": "4UCG9f004EtO"
      },
      "source": [
        "cur_frame = 0\n",
        "def make_video(grid_size = [4, 4], duration_sec = 60.0, mp4_fps = 20, random_seed=397):\n",
        "    global cur_frame\n",
        "    cur_frame = 0\n",
        "\n",
        "    image_shrink = 1\n",
        "    image_zoom = 1\n",
        "    smoothing_sec = 1.0\n",
        "    mp4_codec = 'libx264'\n",
        "    mp4_bitrate = '5M'\n",
        "    mp4_file = 'random_grid_%s.mp4' % random_seed\n",
        "    minibatch_size = 8\n",
        "\n",
        "    num_frames = int(np.rint(duration_sec * mp4_fps))\n",
        "    random_state = np.random.RandomState(random_seed)\n",
        "\n",
        "    # Generate latent vectors\n",
        "    shape = [num_frames, np.prod(grid_size)] + Gs.input_shape[1:] # [frame, image, channel, component]\n",
        "    all_latents = random_state.randn(*shape).astype(np.float32)\n",
        "    import scipy\n",
        "    all_latents = scipy.ndimage.gaussian_filter(all_latents,\n",
        "                   [smoothing_sec * mp4_fps] + [0] * len(Gs.input_shape), mode='wrap')\n",
        "    all_latents /= np.sqrt(np.mean(np.square(all_latents)))\n",
        "\n",
        "\n",
        "    def create_image_grid(images, grid_size=None):\n",
        "        assert images.ndim == 3 or images.ndim == 4\n",
        "        num, img_h, img_w, channels = images.shape\n",
        "\n",
        "        if grid_size is not None:\n",
        "            grid_w, grid_h = tuple(grid_size)\n",
        "        else:\n",
        "            grid_w = max(int(np.ceil(np.sqrt(num))), 1)\n",
        "            grid_h = max((num - 1) // grid_w + 1, 1)\n",
        "\n",
        "        grid = np.zeros([grid_h * img_h, grid_w * img_w, channels], dtype=images.dtype)\n",
        "        for idx in range(num):\n",
        "            x = (idx % grid_w) * img_w\n",
        "            y = (idx // grid_w) * img_h\n",
        "            grid[y : y + img_h, x : x + img_w] = images[idx]\n",
        "        return grid\n",
        "\n",
        "    # Frame generation func for moviepy.\n",
        "    def make_frame(t):\n",
        "        global cur_frame\n",
        "        frame_idx = int(np.clip(np.round(t * mp4_fps), 0, num_frames - 1))\n",
        "\n",
        "        t1 = cur_frame / (num_frames - 1)\n",
        "        b1 = get_point(t1, points_p0, duration_sec=duration_sec, mp4_fps=mp4_fps)\n",
        "        b2 = get_point(t1, points_p1, duration_sec=duration_sec, mp4_fps=mp4_fps)\n",
        "        b3 = get_point(t1, points_p2, duration_sec=duration_sec, mp4_fps=mp4_fps)\n",
        "        barycentric_interp(b1, b2, b3)\n",
        "        latents = all_latents[frame_idx]\n",
        "        #latents = all_latents[0]\n",
        "        cur_frame += 1\n",
        "        fmt = dict(func=tflib.convert_images_to_uint8, nchw_to_nhwc=True)\n",
        "        images = Gs.run(latents, None, truncation_psi=0.45, randomize_noise=False, output_transform=fmt)# **synthesis_kwargs\n",
        "\n",
        "        grid = create_image_grid(images, grid_size)\n",
        "        if image_zoom > 1:\n",
        "            grid = scipy.ndimage.zoom(grid, [image_zoom, image_zoom, 1], order=0)\n",
        "        if grid.shape[2] == 1:\n",
        "            grid = grid.repeat(3, 2) # grayscale => RGB\n",
        "        return grid\n",
        "\n",
        "    # Generate video.\n",
        "    import moviepy.editor\n",
        "    video_clip = moviepy.editor.VideoClip(make_frame, duration=duration_sec)\n",
        "    video_clip.write_videofile(mp4_file, fps=mp4_fps, codec=mp4_codec, bitrate=mp4_bitrate)\n",
        "\n",
        "    return mp4_file\n"
      ],
      "execution_count": null,
      "outputs": []
    },
    {
      "cell_type": "markdown",
      "metadata": {
        "id": "g4jjW6B4-c2c"
      },
      "source": [
        "# Generate a grid of cross-network interpolations"
      ]
    },
    {
      "cell_type": "code",
      "metadata": {
        "id": "IUnU05mr4edb",
        "outputId": "8b4ad742-1cda-4c23-9431-4fcbbffc107b",
        "colab": {
          "base_uri": "https://localhost:8080/",
          "height": 136
        }
      },
      "source": [
        "#@title Generate an interpolation video { run: \"auto\", form-width: \"30%\" }\n",
        "random_seed = 1234 #@param {type:\"integer\"}\n",
        "duration_sec = 60.0 #@param {type:\"number\"}\n",
        "mp4_fps = 20 #@param {type:\"integer\"}\n",
        "grid_width =  3 #@param {type:\"integer\"}\n",
        "grid_height = 3 #@param {type:\"integer\"}\n",
        "output_filename = make_video(grid_size=[grid_width,grid_height], duration_sec=duration_sec, mp4_fps=mp4_fps, random_seed=random_seed)"
      ],
      "execution_count": null,
      "outputs": [
        {
          "output_type": "stream",
          "text": [
            "1200\n",
            "[MoviePy] >>>> Building video random_grid_1237.mp4\n",
            "[MoviePy] Writing video random_grid_1237.mp4\n"
          ],
          "name": "stdout"
        },
        {
          "output_type": "stream",
          "text": [
            "100%|█████████▉| 1200/1201 [12:10<00:00,  1.64it/s]\n"
          ],
          "name": "stderr"
        },
        {
          "output_type": "stream",
          "text": [
            "[MoviePy] Done.\n",
            "[MoviePy] >>>> Video ready: random_grid_1237.mp4 \n",
            "\n"
          ],
          "name": "stdout"
        }
      ]
    },
    {
      "cell_type": "code",
      "metadata": {
        "id": "lp5LucugKXit",
        "outputId": "66d3b19a-0da8-47df-b8d2-179f555a69f3",
        "colab": {
          "base_uri": "https://localhost:8080/",
          "height": 17
        }
      },
      "source": [
        "# You may need to run this cell twice to get the video to download\n",
        "from google.colab import files\n",
        "files.download(output_filename) "
      ],
      "execution_count": null,
      "outputs": [
        {
          "output_type": "display_data",
          "data": {
            "application/javascript": [
              "\n",
              "    async function download(id, filename, size) {\n",
              "      if (!google.colab.kernel.accessAllowed) {\n",
              "        return;\n",
              "      }\n",
              "      const div = document.createElement('div');\n",
              "      const label = document.createElement('label');\n",
              "      label.textContent = `Downloading \"${filename}\": `;\n",
              "      div.appendChild(label);\n",
              "      const progress = document.createElement('progress');\n",
              "      progress.max = size;\n",
              "      div.appendChild(progress);\n",
              "      document.body.appendChild(div);\n",
              "\n",
              "      const buffers = [];\n",
              "      let downloaded = 0;\n",
              "\n",
              "      const channel = await google.colab.kernel.comms.open(id);\n",
              "      // Send a message to notify the kernel that we're ready.\n",
              "      channel.send({})\n",
              "\n",
              "      for await (const message of channel.messages) {\n",
              "        // Send a message to notify the kernel that we're ready.\n",
              "        channel.send({})\n",
              "        if (message.buffers) {\n",
              "          for (const buffer of message.buffers) {\n",
              "            buffers.push(buffer);\n",
              "            downloaded += buffer.byteLength;\n",
              "            progress.value = downloaded;\n",
              "          }\n",
              "        }\n",
              "      }\n",
              "      const blob = new Blob(buffers, {type: 'application/binary'});\n",
              "      const a = document.createElement('a');\n",
              "      a.href = window.URL.createObjectURL(blob);\n",
              "      a.download = filename;\n",
              "      div.appendChild(a);\n",
              "      a.click();\n",
              "      div.remove();\n",
              "    }\n",
              "  "
            ],
            "text/plain": [
              "<IPython.core.display.Javascript object>"
            ]
          },
          "metadata": {
            "tags": []
          }
        },
        {
          "output_type": "display_data",
          "data": {
            "application/javascript": [
              "download(\"download_03d21da5-76e7-454c-bc2f-59a94a6f8596\", \"random_grid_1237.mp4\", 37499979)"
            ],
            "text/plain": [
              "<IPython.core.display.Javascript object>"
            ]
          },
          "metadata": {
            "tags": []
          }
        }
      ]
    },
    {
      "cell_type": "markdown",
      "metadata": {
        "id": "z-nbM6a9N6_s"
      },
      "source": [
        "# Generate the triangle visualization"
      ]
    },
    {
      "cell_type": "code",
      "metadata": {
        "id": "vZ1nP6eBtWGT",
        "outputId": "0c17a826-76dd-4391-8014-32886b918740",
        "colab": {
          "base_uri": "https://localhost:8080/",
          "height": 102
        }
      },
      "source": [
        "%cd /content\n",
        "!git clone https://github.com/bmechtley/barycentric.git"
      ],
      "execution_count": null,
      "outputs": [
        {
          "output_type": "stream",
          "text": [
            "/content\n",
            "Cloning into 'barycentric'...\n",
            "remote: Enumerating objects: 42, done.\u001b[K\n",
            "remote: Total 42 (delta 0), reused 0 (delta 0), pack-reused 42\u001b[K\n",
            "Unpacking objects: 100% (42/42), done.\n"
          ],
          "name": "stdout"
        }
      ]
    },
    {
      "cell_type": "code",
      "metadata": {
        "id": "93WVgSQptZip",
        "outputId": "98cf019b-426f-4797-981b-ea061c4433a5",
        "colab": {
          "base_uri": "https://localhost:8080/",
          "height": 34
        }
      },
      "source": [
        "%cd barycentric"
      ],
      "execution_count": null,
      "outputs": [
        {
          "output_type": "stream",
          "text": [
            "/content/barycentric\n"
          ],
          "name": "stdout"
        }
      ]
    },
    {
      "cell_type": "code",
      "metadata": {
        "id": "Uk4BV1sftdQA"
      },
      "source": [
        "!cp barycentric/coordinates.py ."
      ],
      "execution_count": null,
      "outputs": []
    },
    {
      "cell_type": "code",
      "metadata": {
        "id": "74NTNlZetBcL"
      },
      "source": [
        "%load_ext sympyprinting\n",
        "\n",
        "import itertools as it\n",
        "\n",
        "from pylab import *\n",
        "\n",
        "import coordinates\n",
        "#reload(coordinates)\n",
        "from coordinates import *\n",
        "\n",
        "import notebookutils\n",
        "#reload(notebookutils)\n",
        "from notebookutils import *\n",
        "\n",
        "set_printoptions(precision=3)"
      ],
      "execution_count": null,
      "outputs": []
    },
    {
      "cell_type": "code",
      "metadata": {
        "id": "sOI04YRJt8Du"
      },
      "source": [
        "def polyshow2(\n",
        "    coords, \n",
        "    color=None, \n",
        "    label=None, \n",
        "    labelvertices=False, \n",
        "    polycolor=None, \n",
        "    lines=[]\n",
        "):\n",
        "    '''\n",
        "    Plot a regular convex polygon surrounding one or more barycentric \n",
        "    coordinates within the it. Vertices and corners will be labeled\n",
        "    sequentially starting at 0.\n",
        "\n",
        "    Args:\n",
        "        coords (np.ndarray or list): one or more barycentric coordinates of \n",
        "            equal arbitrary dimension. The dimensionality of the coordinates \n",
        "            will correspond to the number of vertices of the polygon that is\n",
        "            drawn.\n",
        "        color (str or list, optional): color in which to draw the coords. If\n",
        "            color is a list of the same length as coords, each entry will \n",
        "            correspond to the respective coordinates.\n",
        "    '''\n",
        "\n",
        "\n",
        "    # Defaults.\n",
        "    coords = np.array(coords)\n",
        "    if len(coords.shape) < 2: coords = [coords]\n",
        "    for coord in coords:\n",
        "        if np.sum(coord) > 0:\n",
        "            coord /= np.sum(coord)\n",
        "\n",
        "    if color == None: color = 'blue'\n",
        "    if type(color) == str: color = [color] * len(coords)\n",
        "\n",
        "    if label == None: label = ''\n",
        "    if type(label) == str: label = [label] * len(coords)\n",
        "\n",
        "    # Number of sides.\n",
        "    d = len(coords[0])\n",
        "\n",
        "    # Cartesian coordinates of the vertices of the polygon and each point.\n",
        "    corners = polycorners(d)\n",
        "    cart = np.array([\n",
        "        np.sum([\n",
        "            c * cnr \n",
        "            for c, cnr in zip(coord, corners)\n",
        "        ], axis=0) \n",
        "        for coord in coords\n",
        "    ])\n",
        "\n",
        "    # Figure/axes setup.\n",
        "    f = pp.figure(frameon=False)\n",
        "    ax = pp.axes(frameon=False)\n",
        "    ax.axis('equal')\n",
        "    pp.xticks([])\n",
        "    pp.yticks([])\n",
        "\n",
        "    # Add the polygon and its vertices to the figure.\n",
        "    ax.add_patch(pp.Polygon(corners, closed=True, fill=False, alpha=0.5))\n",
        "    #ax.scatter(corners[:,0], corners[:,1], color='red', s=50)\n",
        "    if labelvertices:\n",
        "        map(lambda i: verttext(corners[i], '$v_{%d}$' % i), range(len(corners)))\n",
        "    verttext(corners[0], network_a_name, color='black')\n",
        "    verttext(corners[1], \"{}     \".format(network_b_name), color=\"black\")\n",
        "    verttext(corners[2], \"     {}\".format(network_c_name), color=\"black\")\n",
        "\n",
        "    # Add any extra lines to the figure.\n",
        "    map(ax.add_line, lines)\n",
        "\n",
        "    # Add the interior points and their labels.\n",
        "    ax.scatter(cart[:,0], cart[:,1], color=color, s=100)\n",
        "\n",
        "    for c, txt, clr in zip(cart, label, color):\n",
        "        verttext(c, txt, color=clr)\n",
        "\n",
        "    return f"
      ],
      "execution_count": null,
      "outputs": []
    },
    {
      "cell_type": "code",
      "metadata": {
        "id": "mPvUd2LktBcU"
      },
      "source": [
        "def testpoly(p, i, sides=False):\n",
        "    if type(p) == ndarray and len(p.shape) < 2: p = [p]\n",
        "    elif type(p) == ndarray and len(p.shape) > 1:    \n",
        "        p = list(array(r) for r in p)\n",
        "    \n",
        "    n = len(p)    # number of points\n",
        "    d = len(p[0]) # number of sides\n",
        "    \n",
        "    # q-points are bary. coords for the projection of points in p along each edge.\n",
        "    q = concatenate([baryedges(pi) for pi in p]) if sides else np.array([])\n",
        "    \n",
        "    # Which point each projected point references.\n",
        "    qindices = (arange(n) * ones((d, n), dtype=int)).T.flatten() if sides else np.array([])\n",
        "    \n",
        "    # Labels for every point.\n",
        "    plabels = ['$p_{%d}$' % i for i in range(n)]\n",
        "    qlabels = [\n",
        "        '$q_{%d,%d%d}$' % (a, b, c) \n",
        "        for (a, (b, c)) in list(it.product(\n",
        "            range(n), \n",
        "            zip(\n",
        "                range(d), \n",
        "                [i % d for i in range(1, d + 1)]\n",
        "            )\n",
        "        ))\n",
        "    ] if sides else []\n",
        "    \n",
        "    # Colors for every point.\n",
        "    cm = get_cmap(\"hsv\")\n",
        "    pcolors = [cm(float(i) / n)[0:3] + (.9,) for i in range(n)]\n",
        "    qcolors = [pcolors[i][0:3] + (.5,) for i in qindices] if sides else []\n",
        "    \n",
        "    # Cartesian coordinates for points and closest points along the sides.\n",
        "    pcart = [bary2cart(pi) for pi in p]\n",
        "    qcart = bary2cart(q) if sides else np.array([])\n",
        "    \n",
        "    # Lines that connect each q-point to its reference point.\n",
        "    lines = [\n",
        "        Line2D(\n",
        "            (pcart[i / len(p[0])][0], qcart[i, 0] + .00001),\n",
        "            (pcart[i / len(p[0])][1], qcart[i, 1]),\n",
        "            color = qcolors[i]\n",
        "        ) for i in range(len(qcart))\n",
        "    ] if sides else []\n",
        "    \n",
        "    # Create the view.\n",
        "    f = polyshow2(\n",
        "        p + list(q),\n",
        "        color=pcolors + qcolors,\n",
        "        label=plabels + qlabels,\n",
        "        labelvertices=True,\n",
        "        lines=lines\n",
        "    )\n",
        "    plt.savefig('frames/{:04d}.png'.format(i), dpi=200)\n",
        "    # Show it.\n",
        "    #svgfig(f)"
      ],
      "execution_count": null,
      "outputs": []
    },
    {
      "cell_type": "code",
      "metadata": {
        "id": "fNKqb30btBcX",
        "outputId": "706da3c5-03b2-46d7-a3b8-9181be2817fe",
        "colab": {
          "base_uri": "https://localhost:8080/",
          "height": 263
        }
      },
      "source": [
        "testpoly([np.array([1/3,1/3,1/3]),np.array([1/2,1/2,0]), rand(3), rand(3)], 0, sides=False)"
      ],
      "execution_count": null,
      "outputs": [
        {
          "output_type": "display_data",
          "data": {
            "image/png": "[encoded data removed]",
            "text/plain": [
              "<Figure size 432x288 with 1 Axes>"
            ]
          },
          "metadata": {
            "tags": []
          }
        }
      ]
    },
    {
      "cell_type": "code",
      "metadata": {
        "id": "lBBcLikcpYfs"
      },
      "source": [
        "def cart2bary(x, y):\n",
        "    corners = polycorners(3)\n",
        "    x1, y1 = corners[0]\n",
        "    x2, y2 = corners[1]\n",
        "    x3, y3 = corners[2]\n",
        "    l1 = ((y2-y3)*(x-x3)+(x3-x2)*(y-y3))/((y2-y3)*(x1-x3)+(x3-x2)*(y1-y3))\n",
        "    l2 = ((y3-y1)*(x-x3)+(x1-x3)*(y-y3))/((y2-y3)*(x1-x3)+(x3-x2)*(y1-y3))\n",
        "    l3 = 1-l1-l2\n",
        "    return [l1,l2,l3]"
      ],
      "execution_count": null,
      "outputs": []
    },
    {
      "cell_type": "code",
      "metadata": {
        "id": "SNavOqQxowQf",
        "outputId": "180dd74f-35c4-43ef-b01a-f1e269c508f8",
        "colab": {
          "base_uri": "https://localhost:8080/",
          "height": 34
        }
      },
      "source": [
        "circumcircle(bary2cart(np.array([0,0,1/2])), bary2cart(np.array([0,1/2,0])), bary2cart(np.array([1/2,0,0])))"
      ],
      "execution_count": null,
      "outputs": [
        {
          "output_type": "execute_result",
          "data": {
            "text/plain": [
              "(0.5, 0.5)"
            ]
          },
          "metadata": {
            "tags": []
          },
          "execution_count": 37
        }
      ]
    },
    {
      "cell_type": "code",
      "metadata": {
        "id": "3eE5i2OJDMVc"
      },
      "source": [
        "#!rm frames/*.png\n",
        "!mkdir frames"
      ],
      "execution_count": null,
      "outputs": []
    },
    {
      "cell_type": "code",
      "metadata": {
        "id": "HLeuBsCG24PF"
      },
      "source": [
        "frames = duration_sec * mp4_fps\n",
        "for i in range(int(frames)):\n",
        "    t = i / frames\n",
        "    b1 = get_point(t, points_p0, duration_sec=frames/mp4_fps, mp4_fps=mp4_fps)\n",
        "    b2 = get_point(t, points_p1, duration_sec=frames/mp4_fps, mp4_fps=mp4_fps)\n",
        "    b3 = get_point(t, points_p2, duration_sec=frames/mp4_fps, mp4_fps=mp4_fps)\n",
        "    #testpoly(b2, i, sides=False)\n",
        "    testpoly([b1, b2, b3], i, sides=False)"
      ],
      "execution_count": null,
      "outputs": []
    },
    {
      "cell_type": "markdown",
      "metadata": {
        "id": "TcWTaeI0lXlk"
      },
      "source": [
        "# Put the two videos together side-by-side"
      ]
    },
    {
      "cell_type": "code",
      "metadata": {
        "id": "ZaI21AV-4aOM"
      },
      "source": [
        "!ffmpeg -r 20 -i frames/%04d.png -c:v libx264 -vf fps=20 -vf scale=1536:1200 -pix_fmt yuv420p /content/triangle.mp4"
      ],
      "execution_count": null,
      "outputs": []
    },
    {
      "cell_type": "code",
      "metadata": {
        "id": "RhKWHv6zswZT"
      },
      "source": [
        "!ffmpeg -i $(find /content/stylegan2 -name \"*.mp4\") -i /content/triangle.mp4 -filter_complex '[0:v]pad=iw*2:ih[int];[int][1:v]overlay=W/2:0[vid]' -map [vid] -c:v libx264 -crf 29 /content/output.mp4"
      ],
      "execution_count": null,
      "outputs": []
    },
    {
      "cell_type": "code",
      "metadata": {
        "id": "luhk5EYMQuWA",
        "outputId": "d3e10ed8-629c-4335-bea8-cb50662c3819",
        "colab": {
          "base_uri": "https://localhost:8080/",
          "height": 17
        }
      },
      "source": [
        "# You may need to run this cell twice to get the video to download\n",
        "from google.colab import files\n",
        "files.download(\"/content/output.mp4\") "
      ],
      "execution_count": null,
      "outputs": [
        {
          "output_type": "display_data",
          "data": {
            "application/javascript": [
              "\n",
              "    async function download(id, filename, size) {\n",
              "      if (!google.colab.kernel.accessAllowed) {\n",
              "        return;\n",
              "      }\n",
              "      const div = document.createElement('div');\n",
              "      const label = document.createElement('label');\n",
              "      label.textContent = `Downloading \"${filename}\": `;\n",
              "      div.appendChild(label);\n",
              "      const progress = document.createElement('progress');\n",
              "      progress.max = size;\n",
              "      div.appendChild(progress);\n",
              "      document.body.appendChild(div);\n",
              "\n",
              "      const buffers = [];\n",
              "      let downloaded = 0;\n",
              "\n",
              "      const channel = await google.colab.kernel.comms.open(id);\n",
              "      // Send a message to notify the kernel that we're ready.\n",
              "      channel.send({})\n",
              "\n",
              "      for await (const message of channel.messages) {\n",
              "        // Send a message to notify the kernel that we're ready.\n",
              "        channel.send({})\n",
              "        if (message.buffers) {\n",
              "          for (const buffer of message.buffers) {\n",
              "            buffers.push(buffer);\n",
              "            downloaded += buffer.byteLength;\n",
              "            progress.value = downloaded;\n",
              "          }\n",
              "        }\n",
              "      }\n",
              "      const blob = new Blob(buffers, {type: 'application/binary'});\n",
              "      const a = document.createElement('a');\n",
              "      a.href = window.URL.createObjectURL(blob);\n",
              "      a.download = filename;\n",
              "      div.appendChild(a);\n",
              "      a.click();\n",
              "      div.remove();\n",
              "    }\n",
              "  "
            ],
            "text/plain": [
              "<IPython.core.display.Javascript object>"
            ]
          },
          "metadata": {
            "tags": []
          }
        },
        {
          "output_type": "display_data",
          "data": {
            "application/javascript": [
              "download(\"download_d78b707d-faff-488b-b972-a76b31795b56\", \"output.mp4\", 17569249)"
            ],
            "text/plain": [
              "<IPython.core.display.Javascript object>"
            ]
          },
          "metadata": {
            "tags": []
          }
        }
      ]
    }
  ]
}