{
  "nbformat": 4,
  "nbformat_minor": 0,
  "metadata": {
    "colab": {
      "name": "VideoColorizerColab.ipynb",
      "provenance": [],
      "collapsed_sections": [],
      "include_colab_link": true
    },
    "kernelspec": {
      "name": "python3",
      "display_name": "Python 3"
    },
    "language_info": {
      "codemirror_mode": {
        "name": "ipython",
        "version": 3
      },
      "file_extension": ".py",
      "mimetype": "text/x-python",
      "name": "python",
      "nbconvert_exporter": "python",
      "pygments_lexer": "ipython3",
      "version": "3.7.0"
    },
    "accelerator": "GPU"
  },
  "cells": [
    {
      "cell_type": "markdown",
      "metadata": {
        "id": "view-in-github",
        "colab_type": "text"
      },
      "source": [
        "<a href=\"https://colab.research.google.com/github/gagandeepreehal/ML-DL-RL-Notebooks/blob/main/VideoColorizer.ipynb\" target=\"_parent\"><img src=\"https://colab.research.google.com/assets/colab-badge.svg\" alt=\"Open In Colab\"/></a>"
      ]
    },
    {
      "cell_type": "markdown",
      "metadata": {
        "id": "663IVxfrpIAb"
      },
      "source": [
        "#◢ DeOldify - Colorize your own Videos/Images!\n",
        "\n",
        "\n",
        "_FYI: This notebook is intended as a tool to colorize GIFs and short Videos and Images, if you are trying to convert longer video you may hit the limit on processing space. Running the Jupyter notebook on your own machine is recommended (and faster) for larger video sizes._\n"
      ]
    },
    {
      "cell_type": "code",
      "metadata": {
        "id": "rl_kLYcV_wmJ"
      },
      "source": [
        "from google.colab import drive\n",
        "drive.mount('/content/drive')"
      ],
      "execution_count": null,
      "outputs": []
    },
    {
      "cell_type": "markdown",
      "metadata": {
        "id": "ZjPqTBNoohK9"
      },
      "source": [
        "\n",
        "\n",
        "---\n",
        "\n",
        "\n",
        "#◢ Verify Correct Runtime Settings\n",
        "\n",
        "**<font color='#FF000'> IMPORTANT </font>**\n",
        "\n",
        "In the \"Runtime\" menu for the notebook window, select \"Change runtime type.\" Ensure that the following are selected:\n",
        "* Runtime Type = Python 3\n",
        "* Hardware Accelerator = GPU \n",
        "\n",
        "Your instance must have following gpu to process and render the video\n",
        "* Tesla T4 \n",
        "* Tesla P100\n"
      ]
    },
    {
      "cell_type": "code",
      "metadata": {
        "id": "NxPtdDjO9mG7",
        "outputId": "4a5badec-b8f7-4476-e5bd-250edb0815af",
        "colab": {
          "base_uri": "https://localhost:8080/",
          "height": 306
        }
      },
      "source": [
        "!nvidia-smi"
      ],
      "execution_count": null,
      "outputs": [
        {
          "output_type": "stream",
          "text": [
            "Tue Nov 19 03:15:03 2019       \n",
            "+-----------------------------------------------------------------------------+\n",
            "| NVIDIA-SMI 430.50       Driver Version: 418.67       CUDA Version: 10.1     |\n",
            "|-------------------------------+----------------------+----------------------+\n",
            "| GPU  Name        Persistence-M| Bus-Id        Disp.A | Volatile Uncorr. ECC |\n",
            "| Fan  Temp  Perf  Pwr:Usage/Cap|         Memory-Usage | GPU-Util  Compute M. |\n",
            "|===============================+======================+======================|\n",
            "|   0  Tesla P100-PCIE...  Off  | 00000000:00:04.0 Off |                    0 |\n",
            "| N/A   33C    P0    25W / 250W |      0MiB / 16280MiB |      0%      Default |\n",
            "+-------------------------------+----------------------+----------------------+\n",
            "                                                                               \n",
            "+-----------------------------------------------------------------------------+\n",
            "| Processes:                                                       GPU Memory |\n",
            "|  GPU       PID   Type   Process name                             Usage      |\n",
            "|=============================================================================|\n",
            "|  No running processes found                                                 |\n",
            "+-----------------------------------------------------------------------------+\n"
          ],
          "name": "stdout"
        }
      ]
    },
    {
      "cell_type": "markdown",
      "metadata": {
        "id": "1xFVQ2dcBavg"
      },
      "source": [
        "**Check GPU Type**"
      ]
    },
    {
      "cell_type": "code",
      "metadata": {
        "id": "gJcLSMag97Yz",
        "outputId": "203bf4df-9dc9-4a08-a6bf-84586d0e50a6",
        "colab": {
          "base_uri": "https://localhost:8080/",
          "height": 51
        }
      },
      "source": [
        "import pynvml\n",
        "\n",
        "\n",
        "pynvml.nvmlInit()\n",
        "handle = pynvml.nvmlDeviceGetHandleByIndex(0)\n",
        "device_name = pynvml.nvmlDeviceGetName(handle)\n",
        "print(device_name)\n",
        "\n",
        "if device_name != b'Tesla T4' and device_name != b'Tesla P100-PCIE-16GB':\n",
        "  raise Exception(\"\"\"\n",
        "    Unfortunately this instance does not have a Tesla T4 /Tesla P100 GPU.\n",
        "    \n",
        "    Please make sure you've configured Colab to request a GPU instance type.\n",
        "    \n",
        "    Sometimes Colab allocates a Tesla K80 instead of a T4. Resetting the instance.\n",
        "\n",
        "    If you get a K80 GPU, try Runtime -> Reset all runtimes... \n",
        "    \"\"\")\n",
        "else:\n",
        "  print('Woo! You got the right kind of GPU!')"
      ],
      "execution_count": null,
      "outputs": [
        {
          "output_type": "stream",
          "text": [
            "b'Tesla P100-PCIE-16GB'\n",
            "Woo! You got the right kind of GPU!\n"
          ],
          "name": "stdout"
        }
      ]
    },
    {
      "cell_type": "code",
      "metadata": {
        "id": "00_GcC_trpdE"
      },
      "source": [
        "from os import path\n",
        "import torch"
      ],
      "execution_count": null,
      "outputs": []
    },
    {
      "cell_type": "markdown",
      "metadata": {
        "id": "gaEJBGDlptEo"
      },
      "source": [
        "#◢ Git clone and install DeOldify"
      ]
    },
    {
      "cell_type": "code",
      "metadata": {
        "id": "-T-svuHytJ-8"
      },
      "source": [
        "!git clone https://github.com/jantic/DeOldify.git DeOldify"
      ],
      "execution_count": null,
      "outputs": []
    },
    {
      "cell_type": "code",
      "metadata": {
        "id": "5GMmgoEzJu8H",
        "outputId": "4fafd594-f770-40fc-f6be-6ffb1d041d46",
        "colab": {
          "base_uri": "https://localhost:8080/",
          "height": 34
        }
      },
      "source": [
        "cd DeOldify"
      ],
      "execution_count": null,
      "outputs": [
        {
          "output_type": "stream",
          "text": [
            "/content/DeOldify\n"
          ],
          "name": "stdout"
        }
      ]
    },
    {
      "cell_type": "markdown",
      "metadata": {
        "id": "BDFjbNxaadNJ"
      },
      "source": [
        "#◢ Setup"
      ]
    },
    {
      "cell_type": "code",
      "metadata": {
        "id": "Lsx7xCXNSVt6"
      },
      "source": [
        "!pip install -r requirements.txt"
      ],
      "execution_count": null,
      "outputs": []
    },
    {
      "cell_type": "code",
      "metadata": {
        "id": "MsJa69CMwj3l"
      },
      "source": [
        "import fastai\n",
        "from deoldify.visualize import *\n",
        "from pathlib import Path\n",
        "torch.backends.cudnn.benchmark=True"
      ],
      "execution_count": null,
      "outputs": []
    },
    {
      "cell_type": "code",
      "metadata": {
        "id": "Wo0FL51WJCS_"
      },
      "source": [
        "!mkdir 'models'\n",
        "#Download Pretrained Weights for video\n",
        "!wget https://www.dropbox.com/s/336vn9y4qwyg9yz/ColorizeVideo_gen.pth?dl=0 -O ./models/ColorizeVideo_gen.pth\n",
        "#Download Pretrained Weights for image\n",
        "!wget https://www.dropbox.com/s/zkehq1uwahhbc2o/ColorizeArtistic_gen.pth?dl=0 -O ./models/ColorizeArtistic_gen.pth"
      ],
      "execution_count": null,
      "outputs": []
    },
    {
      "cell_type": "code",
      "metadata": {
        "id": "tzHVnegp21hC"
      },
      "source": [
        "colorizer = get_video_colorizer()\n",
        "colorizer_img = get_image_colorizer(artistic=True)"
      ],
      "execution_count": null,
      "outputs": []
    },
    {
      "cell_type": "markdown",
      "metadata": {
        "id": "ZnkfekAxJCTS"
      },
      "source": [
        "#◢ Instructions"
      ]
    },
    {
      "cell_type": "markdown",
      "metadata": {
        "id": "EZ8oJw-bJCTV"
      },
      "source": [
        "### source_url (video)\n",
        "Type in a url hosting a video from YouTube, Imgur, Twitter, Reddit, Vimeo, etc.  Many sources work!  GIFs also work.  Full list here: https://ytdl-org.github.io/youtube-dl/supportedsites.html NOTE: If you want to use your own video, upload it first to a site like YouTube. \n",
        "\n",
        "### source_url (image)\n",
        "Type in a url to a direct link of an image.  Usually that means they'll end in .png, .jpg, etc. NOTE: If you want to use your own image, upload it first to a site like Imgur. \n",
        "\n",
        "### render_factor\n",
        "The default value of 21(for Vidoe) and 35(for image) has been carefully chosen and should work -ok- for most scenarios (but probably won't be the -best-). This determines resolution at which the color portion of the video is rendered. Lower resolution will render faster, and colors also tend to look more vibrant. Older and lower quality film in particular will generally benefit by lowering the render factor. Higher render factors are often better for higher quality videos and inconsistencies (flashy render) will generally be reduced, but the colors may get slightly washed out. \n",
        "\n",
        "### How to Download a Copy\n",
        "Simply right click on the displayed video/image and click \"Save video as...\"!\n",
        "\n",
        "## Pro Tips\n",
        "1. If a video takes a long time to render and you're wondering how well the frames will actually be colorized, you can preview how well the frames will be rendered at each render_factor by using the code at the bottom. Just stop the video rendering by hitting the stop button on the cell, then run that bottom cell under \"See how well render_factor values perform on a frame here\". It's not perfect and you may still need to experiment a bit especially when it comes to figuring out how to reduce frame inconsistency.  But it'll go a long way in narrowing down what actually works.\n",
        "2. If videos are taking way too much time for your liking, running the Jupyter notebook VideoColorizer.ipynb on your own machine (with DeOldify installed) will generally be much faster (as long as you have the hardware for it). \n",
        "3.You can evaluate how well the image is rendered at each render_factor by using the code at the bottom (that cell under \"See how well render_factor values perform on a frame here\").\n",
        "\n",
        "## Troubleshooting\n",
        "The video player may wind up not showing up, in which case- make sure to wait for the Jupyter cell to complete processing first (the play button will stop spinning).  Then follow these alternative download instructions\n",
        "\n",
        "1. In the menu to the left, click Files\n",
        "2. If you don't see the 'DeOldify' folder, click \"Refresh\"\n",
        "3. By default, rendered video will be in /DeOldify/video/result/\n",
        "\n",
        "If a video you downloaded doesn't play, it's probably because the cell didn't complete processing and the video is in a half-finished state.\n",
        "\n",
        "If you get a 'CUDA out of memory' error, you probably have the render_factor too high. The max is 44 on 11GB video cards."
      ]
    },
    {
      "cell_type": "markdown",
      "metadata": {
        "id": "r2EImy_7Eo4d"
      },
      "source": [
        "#◢ Download Youtube Videos\n",
        "make directory and cd into it"
      ]
    },
    {
      "cell_type": "code",
      "metadata": {
        "id": "u-GKzdebO55s",
        "outputId": "17ecce90-8274-428c-80a4-d48f3d2c145e",
        "colab": {
          "base_uri": "https://localhost:8080/",
          "height": 51
        }
      },
      "source": [
        "%cd ..\n",
        "%mkdir youtube_videos\n",
        "%cd youtube_videos"
      ],
      "execution_count": null,
      "outputs": [
        {
          "output_type": "stream",
          "text": [
            "/content\n",
            "/content/youtube_videos\n"
          ],
          "name": "stdout"
        }
      ]
    },
    {
      "cell_type": "markdown",
      "metadata": {
        "id": "W8zVkAuYRxE3"
      },
      "source": [
        "Download all playlists of YouTube channel/user keeping each playlist in separate directory & best mp4 format available or any other best if no mp4 available"
      ]
    },
    {
      "cell_type": "code",
      "metadata": {
        "id": "lqBNKUf1OzGW"
      },
      "source": [
        "!youtube-dl -f 'bestvideo[ext=mp4]+bestaudio[ext=m4a]/best[ext=mp4]/best' -o '%(uploader)s/%(playlist)s/%(playlist_index)s - %(title)s.%(ext)s' --restrict-filenames -v https://www.youtube.com/user/Tommydan333"
      ],
      "execution_count": null,
      "outputs": []
    },
    {
      "cell_type": "markdown",
      "metadata": {
        "id": "f5oYSS5IQTjK"
      },
      "source": [
        " Download  only video description to a .description file (optional)"
      ]
    },
    {
      "cell_type": "code",
      "metadata": {
        "id": "t00Iez7YNYIY"
      },
      "source": [
        "!youtube-dl --skip-download --youtube-skip-dash-manifest --write-description -o '%(uploader)s/%(playlist)s/%(playlist_index)s - %(title)s.%(ext)s' --restrict-filenames -v https://www.youtube.com/user/Tommydan333"
      ],
      "execution_count": null,
      "outputs": []
    },
    {
      "cell_type": "code",
      "metadata": {
        "id": "UsZ_gW7mN_Ut"
      },
      "source": [
        "!ls Tommydan333/Uploads_from_Tommydan333/"
      ],
      "execution_count": null,
      "outputs": []
    },
    {
      "cell_type": "markdown",
      "metadata": {
        "id": "i2kHonBeWQdu"
      },
      "source": [
        "Zip downloaded .discription file"
      ]
    },
    {
      "cell_type": "code",
      "metadata": {
        "id": "Ro-MIwP4VPGI"
      },
      "source": [
        "!zip -r all_video_desc.zip Tommydan333/Uploads_from_Tommydan333/"
      ],
      "execution_count": null,
      "outputs": []
    },
    {
      "cell_type": "code",
      "metadata": {
        "id": "TefiiJvwbBIa"
      },
      "source": [
        "%ls '../youtube_videos/Tommydan333/'"
      ],
      "execution_count": null,
      "outputs": []
    },
    {
      "cell_type": "markdown",
      "metadata": {
        "id": "f-riW8H3F44-"
      },
      "source": [
        "Backup Videos to Google Drive (optional)"
      ]
    },
    {
      "cell_type": "code",
      "metadata": {
        "id": "VyAVdmG4F5G9",
        "outputId": "a9558cad-8add-468c-b014-9ae8bb2b419b",
        "colab": {
          "base_uri": "https://localhost:8080/",
          "height": 34
        }
      },
      "source": [
        "%cp -r '/Tommydan333/.' '../drive/My Drive/Colab Notebooks/Old_BackupVideos/' "
      ],
      "execution_count": null,
      "outputs": [
        {
          "output_type": "execute_result",
          "data": {
            "text/plain": [
              "'/content/DeOldify'"
            ]
          },
          "metadata": {
            "tags": []
          },
          "execution_count": 46
        }
      ]
    },
    {
      "cell_type": "markdown",
      "metadata": {
        "id": "kUsP_hBRHQWv"
      },
      "source": [
        "Copy Videos from Google Drive - You can use the drag and drop method to copy data using files manager. (to enable **View > Table of contents**)"
      ]
    },
    {
      "cell_type": "code",
      "metadata": {
        "id": "kU6pMoIQrbxp"
      },
      "source": [
        "%mkdir video\n",
        "%mkdir video/source\n",
        "%cp -r '../drive/My Drive/Colab Notebooks/Old_BackupVideos/.' video/source/\n",
        "#%ls 'video/source/'"
      ],
      "execution_count": null,
      "outputs": []
    },
    {
      "cell_type": "markdown",
      "metadata": {
        "id": "sUQrbSYipiJn"
      },
      "source": [
        "#◢ Colorize!!! - Image/Photo"
      ]
    },
    {
      "cell_type": "markdown",
      "metadata": {
        "id": "mYppbaJ9JjxU"
      },
      "source": [
        "### Colorize from URL"
      ]
    },
    {
      "cell_type": "code",
      "metadata": {
        "id": "gKI8mG2SRsqI"
      },
      "source": [
        "source_url = '' #@param {type:\"string\"}\n",
        "render_factor = 31  #@param {type: \"slider\", min: 7, max: 45}\n",
        "\n",
        "if source_url is not None and source_url !='':\n",
        "    image_path = colorizer_img.plot_transformed_image_from_url(url=source_url, render_factor=render_factor, compare=True)\n",
        "    show_image_in_notebook(image_path)\n",
        "else:\n",
        "    print('Provide an image url and try again.')"
      ],
      "execution_count": null,
      "outputs": []
    },
    {
      "cell_type": "markdown",
      "metadata": {
        "id": "olQwWSaiKLar"
      },
      "source": [
        "## See how well render_factor values perform on the image here"
      ]
    },
    {
      "cell_type": "code",
      "metadata": {
        "id": "JtlTayn1J6F2"
      },
      "source": [
        "for i in range(10,46,2):\n",
        "    colorizer_img.plot_transformed_image('test_images/image.png', render_factor=i, display_render_factor=True, figsize=(7,7))"
      ],
      "execution_count": null,
      "outputs": []
    },
    {
      "cell_type": "markdown",
      "metadata": {
        "id": "C5aoAXSTRyWd"
      },
      "source": [
        "#◢ Colorize!!! - Video "
      ]
    },
    {
      "cell_type": "markdown",
      "metadata": {
        "id": "5fVnl-YosCad"
      },
      "source": [
        "### Colorize from URL"
      ]
    },
    {
      "cell_type": "code",
      "metadata": {
        "id": "9yopMdDYJCTd"
      },
      "source": [
        "source_url = '' #@param {type:\"string\"}\n",
        "render_factor = 21  #@param {type: \"slider\", min: 5, max: 44}\n",
        "\n",
        "if source_url is not None and source_url !='':\n",
        "    video_path = colorizer.colorize_from_url(source_url, 'video.mp4', render_factor)\n",
        "    #show_video_in_notebook(video_path)\n",
        "else:\n",
        "    print('Provide a video url and try again.')"
      ],
      "execution_count": null,
      "outputs": []
    },
    {
      "cell_type": "markdown",
      "metadata": {
        "id": "8xhlKlh4sYGF"
      },
      "source": [
        "### Colorize from File"
      ]
    },
    {
      "cell_type": "code",
      "metadata": {
        "id": "EuwH_hGYd0MZ"
      },
      "source": [
        "class color:\n",
        "  BLUE = '\\033[94m'\n",
        "  GREEN = '\\033[92m'\n",
        "  RED = '\\033[91m'\n",
        "  BOLD = '\\033[1m'   \n",
        "  UNDERLINE = '\\033[4m'\n",
        "  END = '\\033[0m' \n",
        "  #The above code is just for fun only!\n",
        "\n",
        "import os\n",
        "import shutil\n",
        "from os import listdir\n",
        "from os.path import isfile, join\n",
        "\n",
        "render_factor = 21\n",
        "\n",
        "#This is the default directory, first you have to copy the video here\n",
        "old_video_source = 'video/source/'\n",
        "\n",
        " \n",
        "fileName = []\n",
        "i = []  \n",
        "fileNames = [f for f in listdir(old_video_source) if isfile(join(old_video_source, f))]\n",
        "\n",
        "for fileName in fileNames:\n",
        "  \n",
        "  try:\n",
        "    \n",
        "    #Video proccessing & rendering\n",
        "    print(color.BOLD + str(fileName) + color.END + color.BLUE + ' ready for proccessig.' + color.END)\n",
        "    video_path = colorizer.colorize_from_file_name(str(fileName), render_factor)  \n",
        "    print(color.GREEN + 'Video rendering done, Now ' + color.END + color.BOLD + fileName + color.END + ' file ready for copy.')\n",
        "    \n",
        "    #Copying file  \n",
        "    build_video_dir = 'video/result/'\n",
        "    new_build_video_path = build_video_dir + str(fileName)\n",
        "    target_dir = '../drive/My Drive/Colab Notebooks/Old_ColorizeVideos'\n",
        "\n",
        "    assert not os.path.isabs(new_build_video_path)\n",
        "    target = os.path.join(target_dir, os.path.dirname(new_build_video_path))\n",
        "\n",
        "    # Create the folders if not already exists\n",
        "    #os.makedirs(target_dir)\n",
        "\n",
        "    # adding exception handling\n",
        "    try:\n",
        "      shutil.copy(new_build_video_path, target_dir)\n",
        "      print(color.BOLD + fileName + color.RED + \" Successfully Copied to \"  + color.END + target_dir + \"\\n\")\n",
        "          \n",
        "    except IOError as e:      \n",
        "      print(\"Unable to copy file. %s\" % e)\n",
        "   \n",
        "  except:\n",
        "    print(\"Unexpected error:\", sys.exc_info())\n",
        "    "
      ],
      "execution_count": null,
      "outputs": []
    },
    {
      "cell_type": "markdown",
      "metadata": {
        "id": "ZQGv4GC8JCTi"
      },
      "source": [
        "### See how well render_factor values perform on a frame here"
      ]
    },
    {
      "cell_type": "code",
      "metadata": {
        "id": "YCm5n1noJCTj"
      },
      "source": [
        "for i in range(10,45,2):\n",
        "    colorizer.vis.plot_transformed_image('video/bwframes/video/00001.jpg', render_factor=i, display_render_factor=True, figsize=(5,5))"
      ],
      "execution_count": null,
      "outputs": []
    }
  ]
}